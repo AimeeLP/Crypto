{
 "cells": [
  {
   "cell_type": "code",
   "execution_count": 129,
   "metadata": {},
   "outputs": [],
   "source": [
    "def P1Q1encrypt(message,key):\n",
    "    \"\"\"Encrypts a message using the Vigenere cipher\"\"\"\n",
    "    while len(message) % len(key) != 0:\n",
    "        message.append(25);\n",
    "    i=0;\n",
    "    counter=0;\n",
    "    c=[0 for a in range(len(message))];\n",
    "    b=[0 for a in range(len(key))];\n",
    "    while len(message)>=len(key):\n",
    "        while i<len(key):\n",
    "            b[i]=message[0];\n",
    "            i=i+1;\n",
    "            del message[0];\n",
    "        i=0;\n",
    "        for j in range(len(key)):\n",
    "            c[j+counter]= (b[j] +key[j]) % 26\n",
    "        counter=counter+len(key)\n",
    "    return(c)"
   ]
  },
  {
   "cell_type": "code",
   "execution_count": 130,
   "metadata": {},
   "outputs": [
    {
     "data": {
      "text/plain": [
       "[16, 20, 8, 18, 1, 1, 8, 4, 2, 13, 17, 5, 20, 9, 6, 15, 19, 16, 0, 18]"
      ]
     },
     "execution_count": 130,
     "metadata": {},
     "output_type": "execute_result"
    }
   ],
   "source": [
    "P1Q1encrypt([7,0,17,17,8,18,14,13,1,20,8,11,3,8,13,6],[9,20,17,1,19])"
   ]
  },
  {
   "cell_type": "code",
   "execution_count": 131,
   "metadata": {},
   "outputs": [],
   "source": [
    "def P1Q1decrypt(message,key):\n",
    "    \"\"\"Encrypts a message using the Vigenere cipher\"\"\"\n",
    "    i=0;\n",
    "    counter=0;\n",
    "    b=[0 for a in range(len(message))];\n",
    "    c=[0 for a in range(len(key))];\n",
    "    while len(message)>=len(key):\n",
    "        while i<len(key):\n",
    "            c[i]=message[0];\n",
    "            i=i+1;\n",
    "            del message[0];\n",
    "        i=0;\n",
    "        for j in range(len(key)):\n",
    "            b[j+counter]= (c[j] - key[j]) % 26\n",
    "        counter=counter+len(key)\n",
    "    return(b)"
   ]
  },
  {
   "cell_type": "code",
   "execution_count": 132,
   "metadata": {
    "scrolled": true
   },
   "outputs": [
    {
     "data": {
      "text/plain": [
       "[24, 14, 20, 17, 4, 0, 22, 8, 25, 0, 17, 3, 7, 0, 17, 17, 24, 25, 25, 25]"
      ]
     },
     "execution_count": 132,
     "metadata": {},
     "output_type": "execute_result"
    }
   ],
   "source": [
    "P1Q1decrypt([7,8,11,18,23,9,16,25,0,19,0,23,24,1,10,0,18,16,0,18],[9,20,17,1,19])"
   ]
  },
  {
   "cell_type": "markdown",
   "metadata": {},
   "source": [
    "chr(24)"
   ]
  },
  {
   "cell_type": "code",
   "execution_count": 133,
   "metadata": {},
   "outputs": [
    {
     "data": {
      "text/plain": [
       "'\\x18'"
      ]
     },
     "execution_count": 133,
     "metadata": {},
     "output_type": "execute_result"
    }
   ],
   "source": []
  },
  {
   "cell_type": "code",
   "execution_count": 151,
   "metadata": {},
   "outputs": [
    {
     "ename": "TypeError",
     "evalue": "'builtin_function_or_method' object is not subscriptable",
     "output_type": "error",
     "traceback": [
      "\u001b[1;31m---------------------------------------------------------------------------\u001b[0m",
      "\u001b[1;31mTypeError\u001b[0m                                 Traceback (most recent call last)",
      "\u001b[1;32m<ipython-input-151-ee93f3186ea2>\u001b[0m in \u001b[0;36m<module>\u001b[1;34m\u001b[0m\n\u001b[1;32m----> 1\u001b[1;33m \u001b[0mz\u001b[0m\u001b[1;33m=\u001b[0m\u001b[1;34m'ha'\u001b[0m\u001b[1;33m.\u001b[0m\u001b[0msplit\u001b[0m\u001b[1;33m;\u001b[0m \u001b[0mz\u001b[0m\u001b[1;33m[\u001b[0m\u001b[1;36m0\u001b[0m\u001b[1;33m]\u001b[0m\u001b[1;33m\u001b[0m\u001b[1;33m\u001b[0m\u001b[0m\n\u001b[0m",
      "\u001b[1;31mTypeError\u001b[0m: 'builtin_function_or_method' object is not subscriptable"
     ]
    }
   ],
   "source": []
  },
  {
   "cell_type": "code",
   "execution_count": null,
   "metadata": {},
   "outputs": [],
   "source": []
  }
 ],
 "metadata": {
  "kernelspec": {
   "display_name": "Python 3",
   "language": "python",
   "name": "python3"
  },
  "language_info": {
   "codemirror_mode": {
    "name": "ipython",
    "version": 3
   },
   "file_extension": ".py",
   "mimetype": "text/x-python",
   "name": "python",
   "nbconvert_exporter": "python",
   "pygments_lexer": "ipython3",
   "version": "3.7.1"
  }
 },
 "nbformat": 4,
 "nbformat_minor": 2
}
