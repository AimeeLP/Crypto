{
 "cells": [
  {
   "cell_type": "code",
   "execution_count": 519,
   "metadata": {},
   "outputs": [],
   "source": [
    "def Affine(message,A,v,n):\n",
    "    \"\"\"Performs Affine cipher (modulo n) with blocklength len(v). Just a tad broken when putting several blocks at once\"\"\"\n",
    "    import numpy as np\n",
    "    while len(message) % len(v) != 0:\n",
    "        message.append(25)\n",
    "    m=len(message)\n",
    "    message=np.array([message]);\n",
    "    message=message.T;\n",
    "    v=np.array([v]);\n",
    "    v=v.T;\n",
    "    i=0;\n",
    "    b=[];\n",
    "    c=np.array([0]);\n",
    "\n",
    "    b=message[:len(v)];\n",
    "    message=np.delete(message,range(len(v)));\n",
    "    c=c+(np.matmul(A,b)+v);\n",
    "    while len(message)>=len(v):\n",
    "        b=message[:len(v)];\n",
    "        message=np.delete(message,range(len(v)));\n",
    "        message=np.array([message]).T;\n",
    "        c=np.concatenate((c,np.matmul(A,b)+v),axis=1);\n",
    "    for i in range(len(v)):\n",
    "        for j in range(m//len(v)):\n",
    "            c[i][j]=c[i][j] % n;\n",
    "    return(c)"
   ]
  },
  {
   "cell_type": "markdown",
   "metadata": {},
   "source": []
  },
  {
   "cell_type": "code",
   "execution_count": null,
   "metadata": {},
   "outputs": [],
   "source": []
  },
  {
   "cell_type": "code",
   "execution_count": 525,
   "metadata": {},
   "outputs": [
    {
     "data": {
      "text/plain": [
       "array([[15],\n",
       "       [ 2]])"
      ]
     },
     "execution_count": 525,
     "metadata": {},
     "output_type": "execute_result"
    }
   ],
   "source": [
    "Affine([8,4],[[3,5],[7,2]],[6,8],35)"
   ]
  },
  {
   "cell_type": "code",
   "execution_count": 507,
   "metadata": {},
   "outputs": [
    {
     "data": {
      "text/plain": [
       "array([[5],\n",
       "       [8]])"
      ]
     },
     "execution_count": 507,
     "metadata": {},
     "output_type": "execute_result"
    }
   ],
   "source": [
    "np.array([newmessage]).T"
   ]
  },
  {
   "cell_type": "code",
   "execution_count": null,
   "metadata": {},
   "outputs": [],
   "source": []
  },
  {
   "cell_type": "code",
   "execution_count": null,
   "metadata": {},
   "outputs": [],
   "source": []
  }
 ],
 "metadata": {
  "kernelspec": {
   "display_name": "Python 3",
   "language": "python",
   "name": "python3"
  },
  "language_info": {
   "codemirror_mode": {
    "name": "ipython",
    "version": 3
   },
   "file_extension": ".py",
   "mimetype": "text/x-python",
   "name": "python",
   "nbconvert_exporter": "python",
   "pygments_lexer": "ipython3",
   "version": "3.7.1"
  }
 },
 "nbformat": 4,
 "nbformat_minor": 2
}
